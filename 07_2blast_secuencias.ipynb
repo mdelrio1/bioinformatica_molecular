{
 "cells": [
  {
   "cell_type": "markdown",
   "metadata": {},
   "source": [
    "# Bitacora para el manejo de secuencias fasta y busqueda basica de *Blastn*\n"
   ]
  },
  {
   "cell_type": "markdown",
   "metadata": {},
   "source": [
    "<img src=\"img/blast.png\" class=\"center\" width = 60%>"
   ]
  },
  {
   "cell_type": "markdown",
   "metadata": {},
   "source": [
    "# Blastn"
   ]
  },
  {
   "cell_type": "markdown",
   "metadata": {},
   "source": [
    "## Para el siguiente ejercicio es necesario tener el Blast+ instalado en la computadora\n",
    "https://www.ncbi.nlm.nih.gov/guide/data-software/\n",
    "## y tener instalada la base de datos de taxonomica"
   ]
  },
  {
   "cell_type": "markdown",
   "metadata": {},
   "source": [
    "<img src=\"img/ncbi_descarga_bd.png\" class=\"center\" width = 60%>"
   ]
  },
  {
   "cell_type": "markdown",
   "metadata": {},
   "source": [
    "## Revise el manual del Blast para mayor información\n",
    "https://www.ncbi.nlm.nih.gov/books/NBK279690/"
   ]
  },
  {
   "cell_type": "code",
   "execution_count": 12,
   "metadata": {},
   "outputs": [
    {
     "name": "stdout",
     "output_type": "stream",
     "text": [
      "/Users/migueldelrio/Desktop/bioinformatica2019/data/fasta\n"
     ]
    }
   ],
   "source": [
    "cd ~/Desktop/Bioinformatica2019/data/fasta/"
   ]
  },
  {
   "cell_type": "code",
   "execution_count": 13,
   "metadata": {},
   "outputs": [
    {
     "name": "stdout",
     "output_type": "stream",
     "text": [
      "Nav1.2F.fa          PET1.2F.fasta       PETsn1.2F.fasta     secuencias10.dnd\r\n",
      "Nav1.2F.fasta       PET1.8F.fasta       PETsn1.8F.fasta     secuencias10.fasta\r\n",
      "Nav1.8F.fasta       PET2.2F.fasta       PHBb1.2F.fasta\r\n",
      "Nav2.2F.fasta       PET2.8F.fasta       secuencias10.aln\r\n"
     ]
    }
   ],
   "source": [
    "ls "
   ]
  },
  {
   "cell_type": "code",
   "execution_count": 22,
   "metadata": {},
   "outputs": [
    {
     "name": "stdout",
     "output_type": "stream",
     "text": [
      "Wed Jan 30 12:07:33 CST 2019\n",
      "Wed Jan 30 12:07:34 CST 2019\n"
     ]
    },
    {
     "name": "stderr",
     "output_type": "stream",
     "text": [
      "\n",
      "real\t0m1.441s\n",
      "user\t0m2.325s\n",
      "sys\t0m0.079s\n"
     ]
    }
   ],
   "source": [
    "%%bash\n",
    "date\n",
    "export BLASTDB=~/Desktop/bigdata/16SMicrobial/\n",
    "\n",
    "time blastn \\\n",
    "-query secuencias10.fasta \\\n",
    "-db ~/Desktop/bigdata/16SMicrobial/16SMicrobial \\\n",
    "-out secuencias10.tab \\\n",
    "-evalue 1E-6 \\\n",
    "-max_target_seqs 1 \\\n",
    "-num_threads 2 \\\n",
    "-outfmt \"6 std sskingdoms stitle staxids sscinames scomnames sblastnames\" \n",
    "\n",
    "date"
   ]
  },
  {
   "cell_type": "markdown",
   "metadata": {},
   "source": [
    "### Revise el manual del Blast y describa qué valores obtendrá en el archivo de salida"
   ]
  },
  {
   "cell_type": "markdown",
   "metadata": {},
   "source": [
    "## para conocer el numero de secuencias con resultado "
   ]
  },
  {
   "cell_type": "code",
   "execution_count": 23,
   "metadata": {},
   "outputs": [
    {
     "name": "stdout",
     "output_type": "stream",
     "text": [
      "      10 secuencias10.tab\r\n"
     ]
    }
   ],
   "source": [
    "!wc -l secuencias10.tab"
   ]
  },
  {
   "cell_type": "code",
   "execution_count": 24,
   "metadata": {},
   "outputs": [
    {
     "name": "stdout",
     "output_type": "stream",
     "text": [
      "PET1.8F\tNR_152090.1\t100.000\t302\t0\t0\t2\t303\t1477\t1176\t4.96e-159\t558\tBacteria\tPseudomonas oceani strain DSM 100277 16S ribosomal RNA, partial sequence\t1708783\tPseudomonas oceani\tPseudomonas oceani\tg-proteobacteria\r\n",
      "PHBb1.2F\tNR_112983.1\t100.000\t288\t0\t0\t2\t289\t1402\t1115\t2.86e-151\t532\tBacteria\tLitoreibacter janthinus strain KMM 3842 16S ribosomal RNA gene, partial sequence\t670154\tLitoreibacter janthinus\tLitoreibacter janthinus\ta-proteobacteria\r\n",
      "PET1.2F\tNR_148798.1\t98.052\t308\t4\t2\t1\t306\t1466\t1159\t8.45e-152\t534\tBacteria\tPseudomonas populi strain KBL-4-9 16S ribosomal RNA, partial sequence\t1500966\tPseudomonas populi\tPseudomonas populi\tg-proteobacteria\r\n",
      "Nav2.2F\tNR_148756.1\t97.840\t324\t6\t1\t1\t323\t1483\t1160\t5.32e-159\t558\tBacteria\tAlteromonas mediterranea strain DE 16S ribosomal RNA, complete sequence\t314275\tAlteromonas mediterranea\tAlteromonas mediterranea\tg-proteobacteria\r\n",
      "PETsn1.2F\tNR_148756.1\t100.000\t304\t0\t0\t1\t304\t1483\t1180\t3.85e-160\t562\tBacteria\tAlteromonas mediterranea strain DE 16S ribosomal RNA, complete sequence\t314275\tAlteromonas mediterranea\tAlteromonas mediterranea\tg-proteobacteria\r\n",
      "Nav1.8F\tNR_025241.1\t99.032\t310\t2\t1\t1\t309\t1478\t1169\t6.56e-158\t555\tBacteria\tBacillus aquimaris strain TF-12 16S ribosomal RNA gene, partial sequence\t189382\tBacillus aquimaris\tBacillus aquimaris\tfirmicutes\r\n",
      "PET2.8F\tNR_148756.1\t98.457\t324\t4\t1\t1\t323\t1483\t1160\t2.46e-162\t569\tBacteria\tAlteromonas mediterranea strain DE 16S ribosomal RNA, complete sequence\t314275\tAlteromonas mediterranea\tAlteromonas mediterranea\tg-proteobacteria\r\n",
      "PETsn1.8F\tNR_148756.1\t98.418\t316\t3\t2\t28\t343\t1473\t1160\t7.36e-158\t555\tBacteria\tAlteromonas mediterranea strain DE 16S ribosomal RNA, complete sequence\t314275\tAlteromonas mediterranea\tAlteromonas mediterranea\tg-proteobacteria\r\n",
      "Nav1.2F\tNR_151897.1\t95.469\t309\t13\t1\t1\t308\t1495\t1187\t5.20e-139\t492\tBacteria\tBacillus nakamurai strain NRRL B-41091 16S ribosomal RNA, partial sequence\t1793963\tBacillus nakamurai\tBacillus nakamurai\tfirmicutes\r\n",
      "PET2.2F\tNR_148756.1\t99.071\t323\t2\t1\t1\t323\t1481\t1160\t4.11e-165\t579\tBacteria\tAlteromonas mediterranea strain DE 16S ribosomal RNA, complete sequence\t314275\tAlteromonas mediterranea\tAlteromonas mediterranea\tg-proteobacteria\r\n"
     ]
    }
   ],
   "source": [
    "!head secuencias10.tab"
   ]
  },
  {
   "cell_type": "markdown",
   "metadata": {},
   "source": [
    "## se requiere visualizar los datos, para ello se utiliza el manejo de bases de datos que tiene Python"
   ]
  },
  {
   "cell_type": "markdown",
   "metadata": {},
   "source": [
    "### se cargan las bibliotecas correspondientes"
   ]
  },
  {
   "cell_type": "code",
   "execution_count": 25,
   "metadata": {},
   "outputs": [],
   "source": [
    "from pandas import Series, DataFrame\n",
    "import pandas as pd"
   ]
  },
  {
   "cell_type": "markdown",
   "metadata": {},
   "source": [
    "###  Blast da los resultados sin nombre de columnas, por lo que se asignan a la variable \"encabezado\""
   ]
  },
  {
   "cell_type": "code",
   "execution_count": 26,
   "metadata": {},
   "outputs": [],
   "source": [
    "encabezado =(\"qseqid\", \"sseqid\", \"pident\", \"length\", \"mismatch\", \"gapopen\",\"qstart\", \n",
    "             \"qend\", \"sstart\",\"send\", \"evalue\", \"bitscore\", \"sskingdoms\", \"stitle\", \n",
    "             \"staxids\", \"sscinames\", \"scomnames\", \"sblastnames\")"
   ]
  },
  {
   "cell_type": "markdown",
   "metadata": {},
   "source": [
    "### Se lee el archivo de salida y se asigna a la variable \"ftab\", con ello se pueden ver los resultados"
   ]
  },
  {
   "cell_type": "code",
   "execution_count": 27,
   "metadata": {
    "scrolled": true
   },
   "outputs": [
    {
     "data": {
      "text/html": [
       "<div>\n",
       "<style scoped>\n",
       "    .dataframe tbody tr th:only-of-type {\n",
       "        vertical-align: middle;\n",
       "    }\n",
       "\n",
       "    .dataframe tbody tr th {\n",
       "        vertical-align: top;\n",
       "    }\n",
       "\n",
       "    .dataframe thead th {\n",
       "        text-align: right;\n",
       "    }\n",
       "</style>\n",
       "<table border=\"1\" class=\"dataframe\">\n",
       "  <thead>\n",
       "    <tr style=\"text-align: right;\">\n",
       "      <th></th>\n",
       "      <th>qseqid</th>\n",
       "      <th>sseqid</th>\n",
       "      <th>pident</th>\n",
       "      <th>length</th>\n",
       "      <th>mismatch</th>\n",
       "      <th>gapopen</th>\n",
       "      <th>qstart</th>\n",
       "      <th>qend</th>\n",
       "      <th>sstart</th>\n",
       "      <th>send</th>\n",
       "      <th>evalue</th>\n",
       "      <th>bitscore</th>\n",
       "      <th>sskingdoms</th>\n",
       "      <th>stitle</th>\n",
       "      <th>staxids</th>\n",
       "      <th>sscinames</th>\n",
       "      <th>scomnames</th>\n",
       "      <th>sblastnames</th>\n",
       "    </tr>\n",
       "  </thead>\n",
       "  <tbody>\n",
       "    <tr>\n",
       "      <th>0</th>\n",
       "      <td>PET1.8F</td>\n",
       "      <td>NR_152090.1</td>\n",
       "      <td>100.000</td>\n",
       "      <td>302</td>\n",
       "      <td>0</td>\n",
       "      <td>0</td>\n",
       "      <td>2</td>\n",
       "      <td>303</td>\n",
       "      <td>1477</td>\n",
       "      <td>1176</td>\n",
       "      <td>4.960000e-159</td>\n",
       "      <td>558</td>\n",
       "      <td>Bacteria</td>\n",
       "      <td>Pseudomonas oceani strain DSM 100277 16S ribos...</td>\n",
       "      <td>1708783</td>\n",
       "      <td>Pseudomonas oceani</td>\n",
       "      <td>Pseudomonas oceani</td>\n",
       "      <td>g-proteobacteria</td>\n",
       "    </tr>\n",
       "    <tr>\n",
       "      <th>1</th>\n",
       "      <td>PHBb1.2F</td>\n",
       "      <td>NR_112983.1</td>\n",
       "      <td>100.000</td>\n",
       "      <td>288</td>\n",
       "      <td>0</td>\n",
       "      <td>0</td>\n",
       "      <td>2</td>\n",
       "      <td>289</td>\n",
       "      <td>1402</td>\n",
       "      <td>1115</td>\n",
       "      <td>2.860000e-151</td>\n",
       "      <td>532</td>\n",
       "      <td>Bacteria</td>\n",
       "      <td>Litoreibacter janthinus strain KMM 3842 16S ri...</td>\n",
       "      <td>670154</td>\n",
       "      <td>Litoreibacter janthinus</td>\n",
       "      <td>Litoreibacter janthinus</td>\n",
       "      <td>a-proteobacteria</td>\n",
       "    </tr>\n",
       "    <tr>\n",
       "      <th>2</th>\n",
       "      <td>PET1.2F</td>\n",
       "      <td>NR_148798.1</td>\n",
       "      <td>98.052</td>\n",
       "      <td>308</td>\n",
       "      <td>4</td>\n",
       "      <td>2</td>\n",
       "      <td>1</td>\n",
       "      <td>306</td>\n",
       "      <td>1466</td>\n",
       "      <td>1159</td>\n",
       "      <td>8.450000e-152</td>\n",
       "      <td>534</td>\n",
       "      <td>Bacteria</td>\n",
       "      <td>Pseudomonas populi strain KBL-4-9 16S ribosoma...</td>\n",
       "      <td>1500966</td>\n",
       "      <td>Pseudomonas populi</td>\n",
       "      <td>Pseudomonas populi</td>\n",
       "      <td>g-proteobacteria</td>\n",
       "    </tr>\n",
       "    <tr>\n",
       "      <th>3</th>\n",
       "      <td>Nav2.2F</td>\n",
       "      <td>NR_148756.1</td>\n",
       "      <td>97.840</td>\n",
       "      <td>324</td>\n",
       "      <td>6</td>\n",
       "      <td>1</td>\n",
       "      <td>1</td>\n",
       "      <td>323</td>\n",
       "      <td>1483</td>\n",
       "      <td>1160</td>\n",
       "      <td>5.320000e-159</td>\n",
       "      <td>558</td>\n",
       "      <td>Bacteria</td>\n",
       "      <td>Alteromonas mediterranea strain DE 16S ribosom...</td>\n",
       "      <td>314275</td>\n",
       "      <td>Alteromonas mediterranea</td>\n",
       "      <td>Alteromonas mediterranea</td>\n",
       "      <td>g-proteobacteria</td>\n",
       "    </tr>\n",
       "    <tr>\n",
       "      <th>4</th>\n",
       "      <td>PETsn1.2F</td>\n",
       "      <td>NR_148756.1</td>\n",
       "      <td>100.000</td>\n",
       "      <td>304</td>\n",
       "      <td>0</td>\n",
       "      <td>0</td>\n",
       "      <td>1</td>\n",
       "      <td>304</td>\n",
       "      <td>1483</td>\n",
       "      <td>1180</td>\n",
       "      <td>3.850000e-160</td>\n",
       "      <td>562</td>\n",
       "      <td>Bacteria</td>\n",
       "      <td>Alteromonas mediterranea strain DE 16S ribosom...</td>\n",
       "      <td>314275</td>\n",
       "      <td>Alteromonas mediterranea</td>\n",
       "      <td>Alteromonas mediterranea</td>\n",
       "      <td>g-proteobacteria</td>\n",
       "    </tr>\n",
       "    <tr>\n",
       "      <th>5</th>\n",
       "      <td>Nav1.8F</td>\n",
       "      <td>NR_025241.1</td>\n",
       "      <td>99.032</td>\n",
       "      <td>310</td>\n",
       "      <td>2</td>\n",
       "      <td>1</td>\n",
       "      <td>1</td>\n",
       "      <td>309</td>\n",
       "      <td>1478</td>\n",
       "      <td>1169</td>\n",
       "      <td>6.560000e-158</td>\n",
       "      <td>555</td>\n",
       "      <td>Bacteria</td>\n",
       "      <td>Bacillus aquimaris strain TF-12 16S ribosomal ...</td>\n",
       "      <td>189382</td>\n",
       "      <td>Bacillus aquimaris</td>\n",
       "      <td>Bacillus aquimaris</td>\n",
       "      <td>firmicutes</td>\n",
       "    </tr>\n",
       "    <tr>\n",
       "      <th>6</th>\n",
       "      <td>PET2.8F</td>\n",
       "      <td>NR_148756.1</td>\n",
       "      <td>98.457</td>\n",
       "      <td>324</td>\n",
       "      <td>4</td>\n",
       "      <td>1</td>\n",
       "      <td>1</td>\n",
       "      <td>323</td>\n",
       "      <td>1483</td>\n",
       "      <td>1160</td>\n",
       "      <td>2.460000e-162</td>\n",
       "      <td>569</td>\n",
       "      <td>Bacteria</td>\n",
       "      <td>Alteromonas mediterranea strain DE 16S ribosom...</td>\n",
       "      <td>314275</td>\n",
       "      <td>Alteromonas mediterranea</td>\n",
       "      <td>Alteromonas mediterranea</td>\n",
       "      <td>g-proteobacteria</td>\n",
       "    </tr>\n",
       "    <tr>\n",
       "      <th>7</th>\n",
       "      <td>PETsn1.8F</td>\n",
       "      <td>NR_148756.1</td>\n",
       "      <td>98.418</td>\n",
       "      <td>316</td>\n",
       "      <td>3</td>\n",
       "      <td>2</td>\n",
       "      <td>28</td>\n",
       "      <td>343</td>\n",
       "      <td>1473</td>\n",
       "      <td>1160</td>\n",
       "      <td>7.360000e-158</td>\n",
       "      <td>555</td>\n",
       "      <td>Bacteria</td>\n",
       "      <td>Alteromonas mediterranea strain DE 16S ribosom...</td>\n",
       "      <td>314275</td>\n",
       "      <td>Alteromonas mediterranea</td>\n",
       "      <td>Alteromonas mediterranea</td>\n",
       "      <td>g-proteobacteria</td>\n",
       "    </tr>\n",
       "    <tr>\n",
       "      <th>8</th>\n",
       "      <td>Nav1.2F</td>\n",
       "      <td>NR_151897.1</td>\n",
       "      <td>95.469</td>\n",
       "      <td>309</td>\n",
       "      <td>13</td>\n",
       "      <td>1</td>\n",
       "      <td>1</td>\n",
       "      <td>308</td>\n",
       "      <td>1495</td>\n",
       "      <td>1187</td>\n",
       "      <td>5.200000e-139</td>\n",
       "      <td>492</td>\n",
       "      <td>Bacteria</td>\n",
       "      <td>Bacillus nakamurai strain NRRL B-41091 16S rib...</td>\n",
       "      <td>1793963</td>\n",
       "      <td>Bacillus nakamurai</td>\n",
       "      <td>Bacillus nakamurai</td>\n",
       "      <td>firmicutes</td>\n",
       "    </tr>\n",
       "    <tr>\n",
       "      <th>9</th>\n",
       "      <td>PET2.2F</td>\n",
       "      <td>NR_148756.1</td>\n",
       "      <td>99.071</td>\n",
       "      <td>323</td>\n",
       "      <td>2</td>\n",
       "      <td>1</td>\n",
       "      <td>1</td>\n",
       "      <td>323</td>\n",
       "      <td>1481</td>\n",
       "      <td>1160</td>\n",
       "      <td>4.110000e-165</td>\n",
       "      <td>579</td>\n",
       "      <td>Bacteria</td>\n",
       "      <td>Alteromonas mediterranea strain DE 16S ribosom...</td>\n",
       "      <td>314275</td>\n",
       "      <td>Alteromonas mediterranea</td>\n",
       "      <td>Alteromonas mediterranea</td>\n",
       "      <td>g-proteobacteria</td>\n",
       "    </tr>\n",
       "  </tbody>\n",
       "</table>\n",
       "</div>"
      ],
      "text/plain": [
       "      qseqid       sseqid   pident  length  mismatch  gapopen  qstart  qend  \\\n",
       "0    PET1.8F  NR_152090.1  100.000     302         0        0       2   303   \n",
       "1   PHBb1.2F  NR_112983.1  100.000     288         0        0       2   289   \n",
       "2    PET1.2F  NR_148798.1   98.052     308         4        2       1   306   \n",
       "3    Nav2.2F  NR_148756.1   97.840     324         6        1       1   323   \n",
       "4  PETsn1.2F  NR_148756.1  100.000     304         0        0       1   304   \n",
       "5    Nav1.8F  NR_025241.1   99.032     310         2        1       1   309   \n",
       "6    PET2.8F  NR_148756.1   98.457     324         4        1       1   323   \n",
       "7  PETsn1.8F  NR_148756.1   98.418     316         3        2      28   343   \n",
       "8    Nav1.2F  NR_151897.1   95.469     309        13        1       1   308   \n",
       "9    PET2.2F  NR_148756.1   99.071     323         2        1       1   323   \n",
       "\n",
       "   sstart  send         evalue  bitscore sskingdoms  \\\n",
       "0    1477  1176  4.960000e-159       558   Bacteria   \n",
       "1    1402  1115  2.860000e-151       532   Bacteria   \n",
       "2    1466  1159  8.450000e-152       534   Bacteria   \n",
       "3    1483  1160  5.320000e-159       558   Bacteria   \n",
       "4    1483  1180  3.850000e-160       562   Bacteria   \n",
       "5    1478  1169  6.560000e-158       555   Bacteria   \n",
       "6    1483  1160  2.460000e-162       569   Bacteria   \n",
       "7    1473  1160  7.360000e-158       555   Bacteria   \n",
       "8    1495  1187  5.200000e-139       492   Bacteria   \n",
       "9    1481  1160  4.110000e-165       579   Bacteria   \n",
       "\n",
       "                                              stitle  staxids  \\\n",
       "0  Pseudomonas oceani strain DSM 100277 16S ribos...  1708783   \n",
       "1  Litoreibacter janthinus strain KMM 3842 16S ri...   670154   \n",
       "2  Pseudomonas populi strain KBL-4-9 16S ribosoma...  1500966   \n",
       "3  Alteromonas mediterranea strain DE 16S ribosom...   314275   \n",
       "4  Alteromonas mediterranea strain DE 16S ribosom...   314275   \n",
       "5  Bacillus aquimaris strain TF-12 16S ribosomal ...   189382   \n",
       "6  Alteromonas mediterranea strain DE 16S ribosom...   314275   \n",
       "7  Alteromonas mediterranea strain DE 16S ribosom...   314275   \n",
       "8  Bacillus nakamurai strain NRRL B-41091 16S rib...  1793963   \n",
       "9  Alteromonas mediterranea strain DE 16S ribosom...   314275   \n",
       "\n",
       "                  sscinames                 scomnames       sblastnames  \n",
       "0        Pseudomonas oceani        Pseudomonas oceani  g-proteobacteria  \n",
       "1   Litoreibacter janthinus   Litoreibacter janthinus  a-proteobacteria  \n",
       "2        Pseudomonas populi        Pseudomonas populi  g-proteobacteria  \n",
       "3  Alteromonas mediterranea  Alteromonas mediterranea  g-proteobacteria  \n",
       "4  Alteromonas mediterranea  Alteromonas mediterranea  g-proteobacteria  \n",
       "5        Bacillus aquimaris        Bacillus aquimaris        firmicutes  \n",
       "6  Alteromonas mediterranea  Alteromonas mediterranea  g-proteobacteria  \n",
       "7  Alteromonas mediterranea  Alteromonas mediterranea  g-proteobacteria  \n",
       "8        Bacillus nakamurai        Bacillus nakamurai        firmicutes  \n",
       "9  Alteromonas mediterranea  Alteromonas mediterranea  g-proteobacteria  "
      ]
     },
     "execution_count": 27,
     "metadata": {},
     "output_type": "execute_result"
    }
   ],
   "source": [
    "ftab=pd.read_table(\"secuencias10.tab\", header=None , names= encabezado)\n",
    "ftab"
   ]
  },
  {
   "cell_type": "markdown",
   "metadata": {},
   "source": [
    "### Describa que es lo que esta observando y que puede decir de todas las secuencias "
   ]
  },
  {
   "cell_type": "code",
   "execution_count": null,
   "metadata": {
    "collapsed": true
   },
   "outputs": [],
   "source": []
  },
  {
   "cell_type": "code",
   "execution_count": null,
   "metadata": {
    "collapsed": true
   },
   "outputs": [],
   "source": []
  },
  {
   "cell_type": "code",
   "execution_count": null,
   "metadata": {
    "collapsed": true
   },
   "outputs": [],
   "source": []
  },
  {
   "cell_type": "markdown",
   "metadata": {},
   "source": [
    "### Con el fin de resumir la informacion se agruparan considerando el nombre cientifico (sscinames), contando el numero de casos en donde se encontro una asignacion"
   ]
  },
  {
   "cell_type": "code",
   "execution_count": 28,
   "metadata": {},
   "outputs": [
    {
     "data": {
      "text/html": [
       "<div>\n",
       "<style scoped>\n",
       "    .dataframe tbody tr th:only-of-type {\n",
       "        vertical-align: middle;\n",
       "    }\n",
       "\n",
       "    .dataframe tbody tr th {\n",
       "        vertical-align: top;\n",
       "    }\n",
       "\n",
       "    .dataframe thead th {\n",
       "        text-align: right;\n",
       "    }\n",
       "</style>\n",
       "<table border=\"1\" class=\"dataframe\">\n",
       "  <thead>\n",
       "    <tr style=\"text-align: right;\">\n",
       "      <th></th>\n",
       "      <th>qseqid</th>\n",
       "    </tr>\n",
       "    <tr>\n",
       "      <th>sscinames</th>\n",
       "      <th></th>\n",
       "    </tr>\n",
       "  </thead>\n",
       "  <tbody>\n",
       "    <tr>\n",
       "      <th>Alteromonas mediterranea</th>\n",
       "      <td>5</td>\n",
       "    </tr>\n",
       "    <tr>\n",
       "      <th>Bacillus aquimaris</th>\n",
       "      <td>1</td>\n",
       "    </tr>\n",
       "    <tr>\n",
       "      <th>Bacillus nakamurai</th>\n",
       "      <td>1</td>\n",
       "    </tr>\n",
       "    <tr>\n",
       "      <th>Litoreibacter janthinus</th>\n",
       "      <td>1</td>\n",
       "    </tr>\n",
       "    <tr>\n",
       "      <th>Pseudomonas oceani</th>\n",
       "      <td>1</td>\n",
       "    </tr>\n",
       "    <tr>\n",
       "      <th>Pseudomonas populi</th>\n",
       "      <td>1</td>\n",
       "    </tr>\n",
       "  </tbody>\n",
       "</table>\n",
       "</div>"
      ],
      "text/plain": [
       "                          qseqid\n",
       "sscinames                       \n",
       "Alteromonas mediterranea       5\n",
       "Bacillus aquimaris             1\n",
       "Bacillus nakamurai             1\n",
       "Litoreibacter janthinus        1\n",
       "Pseudomonas oceani             1\n",
       "Pseudomonas populi             1"
      ]
     },
     "execution_count": 28,
     "metadata": {},
     "output_type": "execute_result"
    }
   ],
   "source": [
    "ftab1= ftab.groupby(\"sscinames\")[\"qseqid\"].count()\n",
    "ftab1 = DataFrame(ftab1)\n",
    "ftab1"
   ]
  },
  {
   "cell_type": "markdown",
   "metadata": {},
   "source": [
    "## para guardar esta informacion se utiliza"
   ]
  },
  {
   "cell_type": "code",
   "execution_count": 29,
   "metadata": {},
   "outputs": [],
   "source": [
    "ftab1.to_csv(\"secuencias_especies.csv\")"
   ]
  },
  {
   "cell_type": "markdown",
   "metadata": {},
   "source": [
    "### Que diferencia hay si utiliza estos comandos?"
   ]
  },
  {
   "cell_type": "code",
   "execution_count": 30,
   "metadata": {},
   "outputs": [
    {
     "data": {
      "text/plain": [
       "sscinames\n",
       "Alteromonas mediterranea    5\n",
       "Bacillus aquimaris          1\n",
       "Bacillus nakamurai          1\n",
       "Litoreibacter janthinus     1\n",
       "Pseudomonas oceani          1\n",
       "Pseudomonas populi          1\n",
       "Name: qseqid, dtype: int64"
      ]
     },
     "execution_count": 30,
     "metadata": {},
     "output_type": "execute_result"
    }
   ],
   "source": [
    "ftab1= ftab.groupby(\"sscinames\")[\"qseqid\"].count()\n",
    "ftab1"
   ]
  },
  {
   "cell_type": "code",
   "execution_count": null,
   "metadata": {
    "collapsed": true
   },
   "outputs": [],
   "source": []
  },
  {
   "cell_type": "markdown",
   "metadata": {
    "collapsed": true
   },
   "source": [
    "## cuál considera mas facil de leer?"
   ]
  },
  {
   "cell_type": "code",
   "execution_count": null,
   "metadata": {
    "collapsed": true
   },
   "outputs": [],
   "source": []
  },
  {
   "cell_type": "code",
   "execution_count": null,
   "metadata": {
    "collapsed": true
   },
   "outputs": [],
   "source": []
  },
  {
   "cell_type": "markdown",
   "metadata": {},
   "source": [
    "## Para graficar los resultados se cargan las bibliotecas pylab y matplotlib\n",
    "Ya vienen integrados con el python y no es necesario descargarlos. Si requiere información adicional:\n",
    "https://matplotlib.org\n"
   ]
  },
  {
   "cell_type": "code",
   "execution_count": 31,
   "metadata": {},
   "outputs": [],
   "source": [
    "import pylab\n",
    "import matplotlib.pyplot as plt\n",
    "%matplotlib inline"
   ]
  },
  {
   "cell_type": "markdown",
   "metadata": {},
   "source": [
    "## que hace al último comando?\n",
    "%matplotlib inline"
   ]
  },
  {
   "cell_type": "code",
   "execution_count": null,
   "metadata": {},
   "outputs": [],
   "source": []
  },
  {
   "cell_type": "markdown",
   "metadata": {},
   "source": [
    "## para graficar "
   ]
  },
  {
   "cell_type": "code",
   "execution_count": 32,
   "metadata": {},
   "outputs": [
    {
     "data": {
      "image/png": "[encoded data removed]",
      "text/plain": [
       "<Figure size 432x288 with 1 Axes>"
      ]
     },
     "metadata": {},
     "output_type": "display_data"
    }
   ],
   "source": [
    "plt.pie(ftab1,\n",
    "       labels=ftab1.index\n",
    "       )\n",
    "plt.show()"
   ]
  },
  {
   "cell_type": "markdown",
   "metadata": {},
   "source": [
    "### revise el manual del plt.pi y modifique los comandos para que en la grafica se observen todas las leyendas sin traslaparse"
   ]
  },
  {
   "cell_type": "code",
   "execution_count": 52,
   "metadata": {
    "collapsed": true
   },
   "outputs": [],
   "source": [
    "?plt.pie"
   ]
  },
  {
   "cell_type": "code",
   "execution_count": 33,
   "metadata": {},
   "outputs": [
    {
     "name": "stdout",
     "output_type": "stream",
     "text": [
      "save figure\n"
     ]
    },
    {
     "data": {
      "image/png": "[encoded data removed]",
      "text/plain": [
       "<Figure size 432x288 with 1 Axes>"
      ]
     },
     "metadata": {},
     "output_type": "display_data"
    }
   ],
   "source": [
    "plt.pie(ftab1,\n",
    "        labels=ftab1.index,\n",
    "       )\n",
    "yes = input(\"save figure\")\n",
    "if yes.lower()==\"y\":\n",
    "    plt.savefig('../imagenes/secuencias_pie.png', \n",
    "                dpi=800, bbox_inches='tight')\n",
    "\n",
    "plt.show()\n",
    "\n"
   ]
  },
  {
   "cell_type": "code",
   "execution_count": 36,
   "metadata": {},
   "outputs": [
    {
     "name": "stdout",
     "output_type": "stream",
     "text": [
      "save figure\n"
     ]
    },
    {
     "data": {
      "image/png": "[encoded data removed]",
      "text/plain": [
       "<Figure size 432x288 with 1 Axes>"
      ]
     },
     "metadata": {},
     "output_type": "display_data"
    }
   ],
   "source": [
    "plt.pie(ftab1,\n",
    "        labels=ftab1.index,\n",
    "       explode= (0 ,0 ,0,0,0.2,0))\n",
    "yes = input(\"save figure\")\n",
    "if yes.lower()==\"y\":\n",
    "    plt.savefig('../imagenes/secuencias_pie.png', \n",
    "                dpi=800, bbox_inches='tight')\n",
    "\n",
    "plt.show()\n",
    "\n"
   ]
  },
  {
   "cell_type": "code",
   "execution_count": 37,
   "metadata": {},
   "outputs": [
    {
     "data": {
      "text/plain": [
       "6"
      ]
     },
     "execution_count": 37,
     "metadata": {},
     "output_type": "execute_result"
    }
   ],
   "source": [
    "len(ftab1.index)"
   ]
  },
  {
   "cell_type": "code",
   "execution_count": 38,
   "metadata": {},
   "outputs": [
    {
     "data": {
      "image/png": "[encoded data removed]",
      "text/plain": [
       "<Figure size 432x288 with 1 Axes>"
      ]
     },
     "metadata": {},
     "output_type": "display_data"
    }
   ],
   "source": [
    "ftab1.plot(kind='barh', color=list('gybr'))\n",
    "plt.axis([0, max (ftab1)+1, -1, len (ftab1.index)], label=None)\n",
    "pylab.xlabel(\"Frecuencia\")\n",
    "pylab.ylabel(\"Especies\")\n",
    "plt.show()"
   ]
  },
  {
   "cell_type": "code",
   "execution_count": 39,
   "metadata": {},
   "outputs": [
    {
     "data": {
      "text/plain": [
       "sscinames\n",
       "Bacillus aquimaris          1\n",
       "Bacillus nakamurai          1\n",
       "Litoreibacter janthinus     1\n",
       "Pseudomonas oceani          1\n",
       "Pseudomonas populi          1\n",
       "Alteromonas mediterranea    5\n",
       "Name: qseqid, dtype: int64"
      ]
     },
     "execution_count": 39,
     "metadata": {},
     "output_type": "execute_result"
    }
   ],
   "source": [
    "ftab2 = ftab1.sort_values( ascending=True)\n",
    "ftab2\n"
   ]
  },
  {
   "cell_type": "code",
   "execution_count": 40,
   "metadata": {},
   "outputs": [
    {
     "data": {
      "image/png": "[encoded data removed]",
      "text/plain": [
       "<Figure size 432x288 with 1 Axes>"
      ]
     },
     "metadata": {},
     "output_type": "display_data"
    }
   ],
   "source": [
    "ftab2.plot(kind='barh', color=list('gybr'))\n",
    "plt.axis([0, max (ftab1)+1, -1, len (ftab1.index)], label=None)\n",
    "pylab.xlabel(\"Frecuencia\")\n",
    "pylab.ylabel(\"Especies\")\n",
    "plt.show()"
   ]
  },
  {
   "cell_type": "code",
   "execution_count": null,
   "metadata": {
    "collapsed": true
   },
   "outputs": [],
   "source": []
  }
 ],
 "metadata": {
  "kernelspec": {
   "display_name": "Python 3",
   "language": "python",
   "name": "python3"
  },
  "language_info": {
   "codemirror_mode": {
    "name": "ipython",
    "version": 3
   },
   "file_extension": ".py",
   "mimetype": "text/x-python",
   "name": "python",
   "nbconvert_exporter": "python",
   "pygments_lexer": "ipython3",
   "version": "3.6.6"
  }
 },
 "nbformat": 4,
 "nbformat_minor": 2
}
