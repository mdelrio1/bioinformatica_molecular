{
 "cells": [
  {
   "cell_type": "markdown",
   "metadata": {},
   "source": [
    "# Bitácora para analizar archivos ab1\n",
    "el graficado del electroferograma se tomó de \n",
    "http://biopython.org/wiki/ABI_traces"
   ]
  },
  {
   "cell_type": "code",
   "execution_count": null,
   "metadata": {},
   "outputs": [],
   "source": [
    "from Bio import SeqIO, SeqRecord, pairwise2\n",
    "from Bio.Alphabet import IUPAC\n",
    "from Bio.Seq import Seq\n",
    "from Bio.SeqRecord import SeqRecord\n",
    "from Bio.SubsMat.MatrixInfo import blosum62\n",
    "from collections import defaultdict\n",
    "import matplotlib.pyplot as plt\n",
    "from Bio.Align import AlignInfo\n"
   ]
  },
  {
   "cell_type": "code",
   "execution_count": null,
   "metadata": {},
   "outputs": [],
   "source": [
    "ls /Users/migueldelrio/Desktop/data/bioinformatica_aplicada/ab1/"
   ]
  },
  {
   "cell_type": "code",
   "execution_count": null,
   "metadata": {},
   "outputs": [],
   "source": [
    "cd /Users/migueldelrio/Desktop/data/bioinformatica_aplicada/ab1/"
   ]
  },
  {
   "cell_type": "markdown",
   "metadata": {},
   "source": [
    "## Definición de la función de graficado de los datos del electroferograma"
   ]
  },
  {
   "cell_type": "code",
   "execution_count": null,
   "metadata": {},
   "outputs": [],
   "source": [
    "def graficado(x1,x2):\n",
    "    plt.figure(figsize=(16,4))\n",
    "    plt.plot(trace['DATA9'], color='blue')\n",
    "    plt.plot(trace['DATA10'], color='red')\n",
    "    plt.plot(trace['DATA11'], color='green')\n",
    "    plt.plot(trace['DATA12'], color='yellow')\n",
    "    plt.xlim(x1,x2)  # se utiliza valores de 1000 como maximo\n",
    "    plt.show()"
   ]
  },
  {
   "cell_type": "code",
   "execution_count": null,
   "metadata": {},
   "outputs": [],
   "source": [
    "ls"
   ]
  },
  {
   "cell_type": "markdown",
   "metadata": {},
   "source": [
    "#### Seleccionar un archivo para leerlo\n",
    "La primera variable `record` tendrá la secuencia original, la segunda `record_trim` la secuencia con la baja calidad eliminada"
   ]
  },
  {
   "cell_type": "code",
   "execution_count": null,
   "metadata": {},
   "outputs": [],
   "source": [
    "record = SeqIO.read('Nav1.8_(B11)-DG7A_G12_014.ab1', 'abi')\n",
    "recordtrimmed = SeqIO.read('Nav1.8_(B11)-DG7A_G12_014.ab1', 'abi-trim')"
   ]
  },
  {
   "cell_type": "markdown",
   "metadata": {},
   "source": [
    "#### se observan las secuencias obtenidas"
   ]
  },
  {
   "cell_type": "code",
   "execution_count": null,
   "metadata": {},
   "outputs": [],
   "source": [
    "print(record.seq, \"\\n\", recordtrimmed.seq, \"\\n\")\n",
    "\n",
    "print (len(record.seq), len(recordtrimmed.seq), \"se eliminaron\", \n",
    "       len(record.seq)-len(recordtrimmed.seq), \"nucleótidos\")"
   ]
  },
  {
   "cell_type": "markdown",
   "metadata": {},
   "source": [
    "## alineamiento de las secuencias para observar en donde se cortaron las secuencias"
   ]
  },
  {
   "cell_type": "code",
   "execution_count": null,
   "metadata": {},
   "outputs": [],
   "source": [
    "alignments = pairwise2.align.globalds(record.seq,recordtrimmed.seq, blosum62, -10, -0.5)\n",
    "print(pairwise2.format_alignment(*alignments[0]))"
   ]
  },
  {
   "cell_type": "markdown",
   "metadata": {},
   "source": [
    "## secuencias con el iniciador antisentido (reverse)"
   ]
  },
  {
   "cell_type": "code",
   "execution_count": null,
   "metadata": {},
   "outputs": [],
   "source": [
    "record_R = SeqIO.read('Nav1.8_(D12)-RW01_H03_015.ab1', 'abi')\n",
    "recordtrimmed_R = SeqIO.read('Nav1.8_(D12)-RW01_H03_015.ab1', 'abi-trim')"
   ]
  },
  {
   "cell_type": "code",
   "execution_count": null,
   "metadata": {},
   "outputs": [],
   "source": [
    "print(record_R.seq, \"\\n\", recordtrimmed_R.seq, \"\\n\")\n",
    "print (len(record_R.seq), len(recordtrimmed_R.seq), \"se eliminaron\", \n",
    "       len(record_R.seq)-len(recordtrimmed_R.seq), \"nucleótidos\")"
   ]
  },
  {
   "cell_type": "markdown",
   "metadata": {},
   "source": [
    "## para guardar las secuencias en archivos separados"
   ]
  },
  {
   "cell_type": "code",
   "execution_count": null,
   "metadata": {},
   "outputs": [],
   "source": [
    "SeqIO.write(recordtrimmed, \"../fasta/Nav1_2F.fa\", \"fasta\")\n",
    "SeqIO.write(recordtrimmed_R, \"../fasta/Nav1_2R.fa\", \"fasta\")"
   ]
  },
  {
   "cell_type": "code",
   "execution_count": null,
   "metadata": {},
   "outputs": [],
   "source": [
    "ls ../fasta/Nav1_*"
   ]
  },
  {
   "cell_type": "markdown",
   "metadata": {},
   "source": [
    "# Obtención de la secuencia consenso"
   ]
  },
  {
   "cell_type": "markdown",
   "metadata": {},
   "source": [
    "### Primeramente se alinean las secuencias recortadas"
   ]
  },
  {
   "cell_type": "code",
   "execution_count": null,
   "metadata": {},
   "outputs": [],
   "source": [
    "alignments = pairwise2.align.globalds(recordtrimmed.seq,recordtrimmed_R.seq.reverse_complement(), blosum62, -10, -0.5)"
   ]
  },
  {
   "cell_type": "markdown",
   "metadata": {},
   "source": [
    "### Este procedimiento puede generar más de una secuencias, por lo que es conveniente revisar el\n",
    "### número de alineamientos"
   ]
  },
  {
   "cell_type": "code",
   "execution_count": null,
   "metadata": {},
   "outputs": [],
   "source": [
    "len(alignments)"
   ]
  },
  {
   "cell_type": "markdown",
   "metadata": {},
   "source": [
    "### Se grafican los alineamientos"
   ]
  },
  {
   "cell_type": "code",
   "execution_count": null,
   "metadata": {},
   "outputs": [],
   "source": [
    "for row in range(len(alignments)):\n",
    "    print (\"Alineamiento\", row)\n",
    "    print(pairwise2.format_alignment(*alignments[row]), \"\\n\")\n",
    "    "
   ]
  },
  {
   "cell_type": "markdown",
   "metadata": {},
   "source": [
    "### Se verifica cuál es el más adecuado y se selecciona una secuencia consenso"
   ]
  },
  {
   "cell_type": "markdown",
   "metadata": {},
   "source": [
    "## La obtención de la secuencia consenso se hace a mano. Seleccione el área en donde tenga al menos dos nucleótidos y péguelos en la siguiente variable `secuencia`"
   ]
  },
  {
   "cell_type": "code",
   "execution_count": null,
   "metadata": {},
   "outputs": [],
   "source": [
    "secuencia = \"ACTTCACCCCAATCATCTGTCCCACCTTAGGCGGCTGGCTCCAAAAGGTTACCTCACCGACTTCGGGTGTTACAAACTCTCGTGGTGTGACGGGCGGTGTGTACAAGGCCCGGGAACGTATTCACCGCGGCATGCTGATCCGCGATTACTAGCGATTCCAGCTTCATGTAGGCGAGTTGCAGCTTACAATCCGAACTGAGAACGGTTTTATGGGATTGGCTAAACCTCGCGGTCTTGCTGCCCTTTGTACCGTCCATTGTAGCACGTGTGTAGC\"\n"
   ]
  },
  {
   "cell_type": "markdown",
   "metadata": {},
   "source": [
    "### Se puede camibar el nombre y la descripcion de la secuencia o cambiarlo por el texto deseado"
   ]
  },
  {
   "cell_type": "code",
   "execution_count": null,
   "metadata": {},
   "outputs": [],
   "source": [
    "nombreid = record.id\n",
    "nombredes = record.id"
   ]
  },
  {
   "cell_type": "raw",
   "metadata": {},
   "source": [
    "nombreid = \"Nav1_8\"\n",
    "nombredes = \"Navicula muestra 1_8\""
   ]
  },
  {
   "cell_type": "markdown",
   "metadata": {},
   "source": [
    "### Para guardar la secuencia consenso, primero se reconstruye y después se verifica"
   ]
  },
  {
   "cell_type": "code",
   "execution_count": null,
   "metadata": {},
   "outputs": [],
   "source": [
    "consenso = SeqRecord(Seq(secuencia), id=nombreid, description=nombredes)\n",
    "print (consenso.id, consenso.description, consenso.seq[:30])"
   ]
  },
  {
   "cell_type": "code",
   "execution_count": null,
   "metadata": {},
   "outputs": [],
   "source": [
    "SeqIO.write(consenso, \"../fasta/Nav1_2.fa\", \"fasta\")\n"
   ]
  },
  {
   "cell_type": "code",
   "execution_count": null,
   "metadata": {},
   "outputs": [],
   "source": [
    "ls ../fasta/Nav1_*"
   ]
  },
  {
   "cell_type": "markdown",
   "metadata": {},
   "source": [
    "# _Blast_ de la secuencia"
   ]
  },
  {
   "cell_type": "code",
   "execution_count": null,
   "metadata": {},
   "outputs": [],
   "source": [
    "cd ../fasta/"
   ]
  },
  {
   "cell_type": "code",
   "execution_count": null,
   "metadata": {},
   "outputs": [],
   "source": [
    "ls Nav1_*"
   ]
  },
  {
   "cell_type": "code",
   "execution_count": null,
   "metadata": {},
   "outputs": [],
   "source": [
    "%%bash\n",
    "export BLASTDB=~/Desktop/bigdata/16SMicrobial/\n",
    "date  \n",
    "blastn -query Nav1_2.fa \\\n",
    "-db ~/Desktop/bigdata/16SMicrobial/16SMicrobial \\\n",
    "-out Nav1_2.tab -evalue 1E-6 -max_target_seqs 1 \\\n",
    "-num_threads 2 -outfmt \"6 std sskingdoms stitle staxids sscinames scomnames sblastnames\" \n",
    "date"
   ]
  },
  {
   "cell_type": "code",
   "execution_count": null,
   "metadata": {},
   "outputs": [],
   "source": [
    "!head Nav1_2.tab"
   ]
  },
  {
   "cell_type": "code",
   "execution_count": null,
   "metadata": {},
   "outputs": [],
   "source": []
  },
  {
   "cell_type": "code",
   "execution_count": null,
   "metadata": {},
   "outputs": [],
   "source": []
  },
  {
   "cell_type": "code",
   "execution_count": null,
   "metadata": {},
   "outputs": [],
   "source": []
  },
  {
   "cell_type": "code",
   "execution_count": null,
   "metadata": {},
   "outputs": [],
   "source": []
  },
  {
   "cell_type": "markdown",
   "metadata": {},
   "source": [
    "## graficado del electroferograma"
   ]
  },
  {
   "cell_type": "code",
   "execution_count": null,
   "metadata": {},
   "outputs": [],
   "source": [
    "record.annotations.keys()\n",
    "record.annotations['abif_raw'].keys()\n",
    "channels = ['DATA9', 'DATA10', 'DATA11', 'DATA12']\n",
    "trace = defaultdict(list)"
   ]
  },
  {
   "cell_type": "code",
   "execution_count": null,
   "metadata": {},
   "outputs": [],
   "source": [
    "for c in channels:\n",
    "    trace[c] = record.annotations['abif_raw'][c]\n",
    "\n",
    "intervalos = range(1000,len(trace['DATA9'])+1000,1000)\n",
    "for intervalo in intervalos:\n",
    "    graficado (intervalo-1000,intervalo)"
   ]
  },
  {
   "cell_type": "code",
   "execution_count": null,
   "metadata": {},
   "outputs": [],
   "source": [
    "for c in channels:\n",
    "    trace[c] = record_R.annotations['abif_raw'][c]\n",
    "\n",
    "intervalos = range(1000,len(trace['DATA9'])+1000,1000)\n",
    "for intervalo in intervalos:\n",
    "    graficado (intervalo-1000,intervalo)"
   ]
  },
  {
   "cell_type": "code",
   "execution_count": null,
   "metadata": {},
   "outputs": [],
   "source": []
  },
  {
   "cell_type": "code",
   "execution_count": null,
   "metadata": {},
   "outputs": [],
   "source": []
  },
  {
   "cell_type": "code",
   "execution_count": null,
   "metadata": {},
   "outputs": [],
   "source": []
  },
  {
   "cell_type": "code",
   "execution_count": null,
   "metadata": {},
   "outputs": [],
   "source": []
  },
  {
   "cell_type": "code",
   "execution_count": null,
   "metadata": {},
   "outputs": [],
   "source": []
  },
  {
   "cell_type": "code",
   "execution_count": null,
   "metadata": {},
   "outputs": [],
   "source": []
  },
  {
   "cell_type": "markdown",
   "metadata": {},
   "source": [
    "# En caso de tener varios archivos a procesar se puede usar el siguiente procedimiento"
   ]
  },
  {
   "cell_type": "markdown",
   "metadata": {},
   "source": [
    "### se utilizan los comandos del sistema operativo para leer archivos de directorios"
   ]
  },
  {
   "cell_type": "code",
   "execution_count": null,
   "metadata": {},
   "outputs": [],
   "source": []
  },
  {
   "cell_type": "code",
   "execution_count": null,
   "metadata": {},
   "outputs": [],
   "source": [
    "cd /Users/migueldelrio/Desktop/bioinformatica2019/data/ab2/"
   ]
  },
  {
   "cell_type": "code",
   "execution_count": null,
   "metadata": {},
   "outputs": [],
   "source": [
    "import os#, sys"
   ]
  },
  {
   "cell_type": "code",
   "execution_count": null,
   "metadata": {},
   "outputs": [],
   "source": [
    "pwd"
   ]
  },
  {
   "cell_type": "code",
   "execution_count": null,
   "metadata": {},
   "outputs": [],
   "source": [
    "lista = os.listdir(path =\"/Users/migueldelrio/Desktop/bioinformatica2019/data/ab2\")\n",
    "lista"
   ]
  },
  {
   "cell_type": "markdown",
   "metadata": {},
   "source": [
    "### Se verifican los archivos a procesar"
   ]
  },
  {
   "cell_type": "code",
   "execution_count": null,
   "metadata": {},
   "outputs": [],
   "source": [
    "n=0\n",
    "for row in lista:\n",
    "    if row[:1]!=\".\" and row[-3:]==\"ab1\":\n",
    "        n+=1\n",
    "        print (row)\n",
    "print (n, \"archivos\")\n"
   ]
  },
  {
   "cell_type": "markdown",
   "metadata": {},
   "source": [
    "### para guardar los archivos de manera individual con extensión fasta"
   ]
  },
  {
   "cell_type": "code",
   "execution_count": null,
   "metadata": {},
   "outputs": [],
   "source": [
    "n=0\n",
    "for row in lista:\n",
    "    if row[:1]!=\".\":\n",
    "        n+=1\n",
    "        print (row, end =\"\\t\")\n",
    "        rec1= Trace(row,  trimming=True)\n",
    "        secuencia = SeqRecord(Seq((rec1.seq)), id=rec1.id, description=rec1.id)\n",
    "        archivo= \"../fasta/\"+ row[:-4] +\".fasta\"\n",
    "        print (archivo)\n",
    "        SeqIO.write(secuencia, archivo, \"fasta\")\n",
    "print (n, \"archivos\")\n",
    "\n"
   ]
  },
  {
   "cell_type": "markdown",
   "metadata": {},
   "source": [
    "### para guardar todos los archivos en un solo archivo fasta"
   ]
  },
  {
   "cell_type": "code",
   "execution_count": null,
   "metadata": {},
   "outputs": [],
   "source": [
    "secuencias= []\n",
    "n=0\n",
    "for row in lista:\n",
    "    if row[:1]!=\".\":\n",
    "        n+=1\n",
    "        print (row)\n",
    "        rec1= Trace(row,  trimming=True)\n",
    "        secuencia = SeqRecord(Seq(rec1.seq,\n",
    "           IUPAC.unambiguous_dna), id=rec1.id, description=rec1.id)\n",
    "        secuencias.append(secuencia)\n",
    "archivo= \"../fasta/secuencias.fasta\"\n",
    "print (archivo)\n",
    "SeqIO.write(secuencias, archivo, \"fasta\")\n",
    "print (n, \"archivos\")\n"
   ]
  },
  {
   "cell_type": "markdown",
   "metadata": {},
   "source": [
    "## corrobore el archivo secuencias.fasta"
   ]
  },
  {
   "cell_type": "markdown",
   "metadata": {},
   "source": [
    "## de qué manera podría cambiarle los nombres de descripción a las secuencias?"
   ]
  },
  {
   "cell_type": "markdown",
   "metadata": {},
   "source": [
    "## utilice el Mega y compare sus resultados"
   ]
  },
  {
   "cell_type": "markdown",
   "metadata": {},
   "source": [
    "## guarde el archivo en formato del GenBank"
   ]
  },
  {
   "cell_type": "raw",
   "metadata": {
    "collapsed": true
   },
   "source": [
    "mkdir ../genbank"
   ]
  },
  {
   "cell_type": "code",
   "execution_count": null,
   "metadata": {},
   "outputs": [],
   "source": [
    "SeqIO.write(secuencias, \"../genbank/secuencias.gb\", \"genbank\")\n"
   ]
  },
  {
   "cell_type": "markdown",
   "metadata": {
    "collapsed": true
   },
   "source": [
    "### revise el archivo ../genbank/secuencias.gb, explique qué observa"
   ]
  },
  {
   "cell_type": "code",
   "execution_count": null,
   "metadata": {},
   "outputs": [],
   "source": [
    "!head -5 ../genbank/secuencias.gb"
   ]
  },
  {
   "cell_type": "code",
   "execution_count": null,
   "metadata": {},
   "outputs": [],
   "source": []
  },
  {
   "cell_type": "code",
   "execution_count": null,
   "metadata": {},
   "outputs": [],
   "source": []
  }
 ],
 "metadata": {
  "kernelspec": {
   "display_name": "Python 3",
   "language": "python",
   "name": "python3"
  },
  "language_info": {
   "codemirror_mode": {
    "name": "ipython",
    "version": 3
   },
   "file_extension": ".py",
   "mimetype": "text/x-python",
   "name": "python",
   "nbconvert_exporter": "python",
   "pygments_lexer": "ipython3",
   "version": "3.6.6"
  }
 },
 "nbformat": 4,
 "nbformat_minor": 2
}
